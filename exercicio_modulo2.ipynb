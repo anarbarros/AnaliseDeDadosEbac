{
 "cells": [
  {
   "cell_type": "markdown",
   "metadata": {
    "id": "KJqp9AANOCtf"
   },
   "source": [
    "<img src=\"https://raw.githubusercontent.com/andre-marcos-perez/ebac-course-utils/main/media/logo/newebac_logo_black_half.png\" alt=\"ebac-logo\">\n",
    "\n",
    "---\n",
    "\n",
    "# **Módulo** | Python: Estruturas de Dados\n",
    "Caderno de **Exercícios**<br> \n",
    "Professor [André Perez](https://www.linkedin.com/in/andremarcosperez/)\n",
    "\n",
    "---"
   ]
  },
  {
   "cell_type": "markdown",
   "metadata": {
    "id": "d9jDtUbDOE1-"
   },
   "source": [
    "# **Tópicos**\n",
    "\n",
    "<ol type=\"1\">\n",
    "  <li>Listas;</li>\n",
    "  <li>Conjuntos;</li>\n",
    "  <li>Dicionários.</li>\n",
    "</ol>"
   ]
  },
  {
   "cell_type": "markdown",
   "metadata": {
    "id": "SmoHgt-lwkpD"
   },
   "source": [
    "---"
   ]
  },
  {
   "cell_type": "markdown",
   "metadata": {
    "id": "GABI6OW8OfQ2"
   },
   "source": [
    "# **Exercícios**"
   ]
  },
  {
   "cell_type": "markdown",
   "metadata": {
    "id": "muD1vxozykSC"
   },
   "source": [
    "## 1\\. Listas"
   ]
  },
  {
   "cell_type": "markdown",
   "metadata": {
    "id": "ahrFfCuBxJKs"
   },
   "source": [
    "Criei uma lista chamada `filmes` com o nome dos 10 primeiros filmes mais bem avaliados no site no [IMDB](https://www.imdb.com/chart/top/). Imprima o resultado."
   ]
  },
  {
   "cell_type": "code",
   "execution_count": 3,
   "metadata": {
    "id": "OgL6Hv3bzOHI",
    "scrolled": false
   },
   "outputs": [
    {
     "name": "stdout",
     "output_type": "stream",
     "text": [
      "['The Red Shoes', 'La Notte', 'O Poderoso Chefao', 'Seven', 'Possession', 'Inception', 'Titanic', 'Star Wars', 'Hobbit', 'Star Trek']\n"
     ]
    }
   ],
   "source": [
    "filmes = ['The Red Shoes','La Notte', 'O Poderoso Chefao', 'Seven',\n",
    "         'Possession', 'Inception','Titanic','Star Wars','Hobbit', 'Star Trek']\n",
    "\n",
    "print(filmes)"
   ]
  },
  {
   "cell_type": "markdown",
   "metadata": {
    "id": "KI9zQRT2xa7m"
   },
   "source": [
    "Simule a movimentação do *ranking*. Utilize os métodos `insert` e `pop` para trocar a posição do primeiro e do segundo filme da lista. Imprima o resultado.\n",
    "\n"
   ]
  },
  {
   "cell_type": "code",
   "execution_count": 4,
   "metadata": {},
   "outputs": [
    {
     "name": "stdout",
     "output_type": "stream",
     "text": [
      "['Senhor dos Aneis', 'La Notte', 'O Poderoso Chefao', 'Seven', 'Possession', 'Inception', 'Titanic', 'Star Wars', 'Hobbit', 'Star Trek']\n"
     ]
    }
   ],
   "source": [
    "filmes.insert(0, 'Senhor dos Aneis')\n",
    "remover = filmes.pop(1)\n",
    "print(filmes)"
   ]
  },
  {
   "cell_type": "markdown",
   "metadata": {
    "id": "zMN1Q3jdwoJm"
   },
   "source": [
    "---"
   ]
  },
  {
   "cell_type": "markdown",
   "metadata": {
    "id": "lxa5L6uF0ZJE"
   },
   "source": [
    "## 2\\. Conjuntos"
   ]
  },
  {
   "cell_type": "markdown",
   "metadata": {
    "id": "9JahS2Kj0d5u"
   },
   "source": [
    "Aconteceu um erro no seu *ranking*. Simule a duplicação dos três últimos filmes da lista. Imprima o resultado."
   ]
  },
  {
   "cell_type": "code",
   "execution_count": 6,
   "metadata": {
    "id": "BnjnLBNC6PGe"
   },
   "outputs": [
    {
     "name": "stdout",
     "output_type": "stream",
     "text": [
      "['The Red Shoes', 'La Notte', 'O Poderoso Chefao', 'Seven', 'Possession', 'Inception', 'Titanic', 'Star Wars', 'Star Wars', 'Hobbit', 'Hobbit', 'Star Trek', 'Star Trek']\n",
      "<class 'list'>\n"
     ]
    }
   ],
   "source": [
    "filmes = ['The Red Shoes','La Notte', 'O Poderoso Chefao', 'Seven',\n",
    "         'Possession', 'Inception','Titanic','Star Wars','Star Wars','Hobbit','Hobbit', 'Star Trek', 'Star Trek']\n",
    "\n",
    "print(filmes)\n",
    "print(type(filmes))"
   ]
  },
  {
   "cell_type": "markdown",
   "metadata": {
    "id": "suxTfCJB6ZiX"
   },
   "source": [
    "Utiliza a conversão `set` e `list` para remover os valores duplicados. Imprima o resultado. "
   ]
  },
  {
   "cell_type": "code",
   "execution_count": 10,
   "metadata": {
    "id": "ZvUGN-0n6joM"
   },
   "outputs": [
    {
     "name": "stdout",
     "output_type": "stream",
     "text": [
      "{'Star Wars', 'Possession', 'Seven', 'O Poderoso Chefao', 'Inception', 'Star Trek', 'Titanic', 'La Notte', 'Hobbit', 'The Red Shoes'}\n"
     ]
    }
   ],
   "source": [
    "print(set(filmes))"
   ]
  },
  {
   "cell_type": "markdown",
   "metadata": {
    "id": "ShkK35eQ6pAM"
   },
   "source": [
    "---"
   ]
  },
  {
   "cell_type": "markdown",
   "metadata": {
    "id": "EL_FzmxL6rTv"
   },
   "source": [
    "## 3\\. Dicionários"
   ]
  },
  {
   "cell_type": "markdown",
   "metadata": {
    "id": "i8l0gFqRCpfT"
   },
   "source": [
    "Repita os exercícios da parte 1 (listas). Os elementos da lista `filmes` devem ser dicionários no seguinte formato: `{'nome': <nome-do-filme>, 'ano': <ano do filme>}, 'sinopse': <sinopse do filme>}`. "
   ]
  },
  {
   "cell_type": "code",
   "execution_count": 16,
   "metadata": {
    "id": "tu6MSFwGDnHv"
   },
   "outputs": [],
   "source": [
    "filmes = [\n",
    "    {'nome': 'The Red Shoes', 'ano': 1948, 'genero': 'musical'},\n",
    "    {'nome': 'Star Wars' , 'ano': 1978, 'genero': 'sci-fi'},\n",
    "    {'nome': 'Possession', 'ano': 1988, 'genero': 'terror'},\n",
    "    {'nome': 'Seven', 'ano': 1994, 'genero': 'suspense'},\n",
    "    {'nome': 'O Poderoso Chefão', 'ano': 1990, 'genero': 'crime'},\n",
    "    {'nome': 'Inception', 'ano': 2010, 'genero': 'sci-fi'},\n",
    "    {'nome': 'Star Trek', 'ano': 1960, 'genero': 'sci-fi'},\n",
    "    {'nome': 'Titanic', 'ano': 1994, 'genero': 'drama'},\n",
    "    {'nome': 'La Notte', 'ano': 1965, 'genero': 'drama'},\n",
    "    {'nome': 'Hobbit', 'ano': 2005, 'genero': 'fantasia'}\n",
    "]\n"
   ]
  },
  {
   "cell_type": "code",
   "execution_count": 17,
   "metadata": {},
   "outputs": [
    {
     "name": "stdout",
     "output_type": "stream",
     "text": [
      "[{'nome': 'The Red Shoes', 'ano': 1948, 'genero': 'musical'}, {'nome': 'Star Wars', 'ano': 1978, 'genero': 'sci-fi'}, {'nome': 'Possession', 'ano': 1988, 'genero': 'terror'}, {'nome': 'Seven', 'ano': 1994, 'genero': 'suspense'}, {'nome': 'O Poderoso Chefão', 'ano': 1990, 'genero': 'crime'}, {'nome': 'Inception', 'ano': 2010, 'genero': 'sci-fi'}, {'nome': 'Star Trek', 'ano': 1960, 'genero': 'sci-fi'}, {'nome': 'Titanic', 'ano': 1994, 'genero': 'drama'}, {'nome': 'La Notte', 'ano': 1965, 'genero': 'drama'}, {'nome': 'Hobbit', 'ano': 2005, 'genero': 'fantasia'}]\n"
     ]
    }
   ],
   "source": [
    "print(filmes)"
   ]
  },
  {
   "cell_type": "code",
   "execution_count": 18,
   "metadata": {},
   "outputs": [
    {
     "name": "stdout",
     "output_type": "stream",
     "text": [
      "<class 'list'>\n"
     ]
    }
   ],
   "source": [
    "print(type(filmes))"
   ]
  },
  {
   "cell_type": "code",
   "execution_count": null,
   "metadata": {},
   "outputs": [],
   "source": []
  }
 ],
 "metadata": {
  "colab": {
   "authorship_tag": "ABX9TyP3pUU0yv7meDqj7pVulAtb",
   "collapsed_sections": [],
   "name": "module_2_exercise.ipynb",
   "provenance": [],
   "toc_visible": true
  },
  "kernelspec": {
   "display_name": "Python 3 (ipykernel)",
   "language": "python",
   "name": "python3"
  },
  "language_info": {
   "codemirror_mode": {
    "name": "ipython",
    "version": 3
   },
   "file_extension": ".py",
   "mimetype": "text/x-python",
   "name": "python",
   "nbconvert_exporter": "python",
   "pygments_lexer": "ipython3",
   "version": "3.9.13"
  }
 },
 "nbformat": 4,
 "nbformat_minor": 1
}
