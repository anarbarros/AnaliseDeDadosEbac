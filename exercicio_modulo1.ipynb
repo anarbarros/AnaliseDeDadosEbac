{
 "cells": [
  {
   "cell_type": "markdown",
   "metadata": {
    "id": "KJqp9AANOCtf"
   },
   "source": [
    "<img src=\"https://raw.githubusercontent.com/andre-marcos-perez/ebac-course-utils/main/media/logo/newebac_logo_black_half.png\" alt=\"ebac-logo\">\n",
    "\n",
    "---\n",
    "\n",
    "# **Módulo** | Python: Variáveis & Tipos de Dados\n",
    "Caderno de **Exercícios**<br> \n",
    "Professor [André Perez](https://www.linkedin.com/in/andremarcosperez/)\n",
    "\n",
    "---"
   ]
  },
  {
   "cell_type": "markdown",
   "metadata": {
    "id": "d9jDtUbDOE1-"
   },
   "source": [
    "# **Tópicos**\n",
    "\n",
    "<ol type=\"1\">\n",
    "  <li>Introdução ao Google Colab;</li>\n",
    "  <li>Variáveis;</li>\n",
    "  <li>Números;</li>\n",
    "  <li><i>Strings;</i></li>\n",
    "  <li>Boleanos.</li>\n",
    "</ol>"
   ]
  },
  {
   "cell_type": "markdown",
   "metadata": {
    "id": "SmoHgt-lwkpD"
   },
   "source": [
    "---"
   ]
  },
  {
   "cell_type": "markdown",
   "metadata": {
    "id": "GABI6OW8OfQ2"
   },
   "source": [
    "# **Exercícios**"
   ]
  },
  {
   "cell_type": "markdown",
   "metadata": {
    "id": "muD1vxozykSC"
   },
   "source": [
    "## 1\\. Google Colab"
   ]
  },
  {
   "cell_type": "markdown",
   "metadata": {
    "id": "ahrFfCuBxJKs"
   },
   "source": [
    "Crie uma célula de código que escreva o texto \"Olá mundo!\", utilize o comando `print`."
   ]
  },
  {
   "cell_type": "code",
   "execution_count": null,
   "metadata": {},
   "outputs": [],
   "source": [
    "print('Olá Mundo')"
   ]
  },
  {
   "cell_type": "markdown",
   "metadata": {
    "id": "KI9zQRT2xa7m"
   },
   "source": [
    "Crie uma célua de texto e adicione uma imagem."
   ]
  },
  {
   "cell_type": "markdown",
   "metadata": {
    "id": "zMN1Q3jdwoJm"
   },
   "source": [
    "<img src='images.jpeg'>"
   ]
  },
  {
   "cell_type": "markdown",
   "metadata": {
    "id": "tFYOPLS3xiwe"
   },
   "source": [
    "## 2\\. Números"
   ]
  },
  {
   "cell_type": "markdown",
   "metadata": {
    "id": "O2G9gt7tx2c-"
   },
   "source": [
    "Preencha as células de código para preencher os valores de (A), (B) e (C) na tabela de ticket médio abaixo:\n",
    "\n",
    "<br>\n",
    "\n",
    "| Dia   | Valor Total Vendas | Qtd Total Vendas | Ticket Medio |\n",
    "|-------|--------------------|------------------|--------------|\n",
    "| 19/01 | (A)                | 3                | 320.52       |\n",
    "| 20/01 | 834.47             | (B)              | 119.21       |\n",
    "| 23/01 | 15378.12           | 5                | (C)          |"
   ]
  },
  {
   "cell_type": "code",
   "execution_count": 7,
   "metadata": {
    "id": "nsrKH9EizNRD"
   },
   "outputs": [
    {
     "name": "stdout",
     "output_type": "stream",
     "text": [
      "961.56\n"
     ]
    }
   ],
   "source": [
    "# (A)\n",
    "\n",
    "qtd_total_vendas = 3\n",
    "ticket_medio = 320.52\n",
    "\n",
    "valor_total_vendas = qtd_total_vendas * ticket_medio\n",
    "a = valor_total_vendas\n",
    "\n",
    "print(a)"
   ]
  },
  {
   "cell_type": "code",
   "execution_count": 8,
   "metadata": {
    "id": "QQ1GBGHJzMmi"
   },
   "outputs": [
    {
     "name": "stdout",
     "output_type": "stream",
     "text": [
      "7\n"
     ]
    }
   ],
   "source": [
    "# (B)\n",
    "valor_total_vendas = 834.47\n",
    "ticket_medio = 119.21\n",
    "\n",
    "qtd_total_vendas = valor_total_vendas / ticket_medio\n",
    "b = int(qtd_total_vendas)\n",
    "\n",
    "print(b)"
   ]
  },
  {
   "cell_type": "code",
   "execution_count": 11,
   "metadata": {
    "id": "W-li0nSMzKNa"
   },
   "outputs": [
    {
     "name": "stdout",
     "output_type": "stream",
     "text": [
      "3075\n"
     ]
    }
   ],
   "source": [
    "# (C)\n",
    "valor_total_vendas = 15378.12\n",
    "qtd_total_vendas = 5\n",
    "\n",
    "ticket_medio = valor_total_vendas / qtd_total_vendas\n",
    "c = int(ticket_medio)\n",
    "\n",
    "print(c)"
   ]
  },
  {
   "cell_type": "markdown",
   "metadata": {
    "id": "3eoP-Vj9yzh8"
   },
   "source": [
    "---"
   ]
  },
  {
   "cell_type": "markdown",
   "metadata": {
    "id": "yUJ6kdony6Pr"
   },
   "source": [
    "## 3\\. Strings"
   ]
  },
  {
   "cell_type": "markdown",
   "metadata": {
    "id": "KDuZpg-5zCvO"
   },
   "source": [
    "Aplique três métodos distintos na *string* abaixo, você pode conferir alguns métodos neste [link](https://www.w3schools.com/python/python_ref_string.asp):"
   ]
  },
  {
   "cell_type": "code",
   "execution_count": 19,
   "metadata": {
    "id": "k9zbyf7BzjKj"
   },
   "outputs": [
    {
     "name": "stdout",
     "output_type": "stream",
     "text": [
      "3\n",
      "roda mundo, roda gigante, roda moinho, roda pião.\n",
      "False\n"
     ]
    }
   ],
   "source": [
    "cancao = 'Roda mundo, roda gigante, roda moinho, roda pião.'\n",
    "contador = cancao.count('roda')\n",
    "modificar = cancao.replace('Roda', 'roda')\n",
    "tem_numero = cancao.isalnum()\n",
    "\n",
    "print(contador)\n",
    "print(modificar)\n",
    "print(tem_numero)"
   ]
  },
  {
   "cell_type": "markdown",
   "metadata": {
    "id": "guZMHXVq0FnC"
   },
   "source": [
    "Extraia da string abaixo o valor da taxa **selic** na variável `selic` e o valor do **ano** na variavel `ano`. Imprima os valores na tela."
   ]
  },
  {
   "cell_type": "code",
   "execution_count": 36,
   "metadata": {
    "id": "cbx_P4IQ0agK"
   },
   "outputs": [
    {
     "name": "stdout",
     "output_type": "stream",
     "text": [
      "16\n",
      "O valor da taxas selic é 2,75 % \n",
      "\n",
      "64\n",
      "6 anos\n"
     ]
    }
   ],
   "source": [
    "noticia = 'Selic vai a 2,75% e supera expectativas; é a primeira alta em 6 anos.'\n",
    "\n",
    "posicao_selic = noticia.find('%')\n",
    "print(posicao_selic)\n",
    "selic = (noticia[posicao_selic - 4 : posicao_selic])\n",
    "print(f'O valor da taxas selic é {selic} % ' )\n",
    "print('')\n",
    "posicao_ano = noticia.find('anos')\n",
    "print(posicao_ano)\n",
    "ano = (noticia[posicao_ano - 2])\n",
    "print(f'{ano} anos')\n"
   ]
  },
  {
   "cell_type": "markdown",
   "metadata": {
    "id": "wWzbu-OC0z3L"
   },
   "source": [
    "---"
   ]
  },
  {
   "cell_type": "markdown",
   "metadata": {
    "id": "no8w_Ati01xP"
   },
   "source": [
    "## 4\\. Booleanos"
   ]
  },
  {
   "cell_type": "markdown",
   "metadata": {
    "id": "D_0tC3SC099N"
   },
   "source": [
    "Utilize a tabela da verdade para responder: qual o valor da variável x?"
   ]
  },
  {
   "cell_type": "code",
   "execution_count": 37,
   "metadata": {
    "id": "XwIEbxf91SpU"
   },
   "outputs": [
    {
     "name": "stdout",
     "output_type": "stream",
     "text": [
      "Se not a = True e b = True, então o valor de x é True\n"
     ]
    }
   ],
   "source": [
    "a = False\n",
    "b = True\n",
    "\n",
    "x = not a & b\n",
    "\n",
    "print(f'Se not a = True e b = True, então o valor de x é {x}')"
   ]
  },
  {
   "cell_type": "code",
   "execution_count": null,
   "metadata": {},
   "outputs": [],
   "source": []
  }
 ],
 "metadata": {
  "colab": {
   "authorship_tag": "ABX9TyO1iwhZJssvky12Giwtdtmc",
   "name": "module_1_exercise.ipynb",
   "provenance": [],
   "toc_visible": true
  },
  "kernelspec": {
   "display_name": "Python 3 (ipykernel)",
   "language": "python",
   "name": "python3"
  },
  "language_info": {
   "codemirror_mode": {
    "name": "ipython",
    "version": 3
   },
   "file_extension": ".py",
   "mimetype": "text/x-python",
   "name": "python",
   "nbconvert_exporter": "python",
   "pygments_lexer": "ipython3",
   "version": "3.9.13"
  }
 },
 "nbformat": 4,
 "nbformat_minor": 1
}
